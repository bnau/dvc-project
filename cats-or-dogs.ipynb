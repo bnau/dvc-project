{
 "cells": [
  {
   "cell_type": "markdown",
   "source": [
    "## Data extraction"
   ],
   "metadata": {
    "collapsed": false
   },
   "id": "12d1d368ef2ae097"
  },
  {
   "cell_type": "code",
   "execution_count": null,
   "outputs": [],
   "source": [
    "import os, shutil, pathlib\n",
    "\n",
    "original_dir = pathlib.Path(\"data\")\n",
    "new_base_dir = pathlib.Path(\"subset\")\n",
    "\n",
    "def make_subset(subset_name, start_index, end_index):\n",
    "    for category in (\"cat\", \"dog\"):\n",
    "        dir = new_base_dir / subset_name / category\n",
    "        os.makedirs(dir, exist_ok=True)\n",
    "        fnames = [f\"{category}.{i}.jpg\" for i in range(start_index, end_index)]\n",
    "        for fname in fnames:\n",
    "            shutil.copyfile(src=original_dir / fname,\n",
    "                            dst=dir / fname)\n",
    "\n",
    "make_subset(\"train\", start_index=1, end_index=100)\n",
    "make_subset(\"validation\", start_index=100, end_index=150)\n",
    "make_subset(\"test\", start_index=150, end_index=250)"
   ],
   "metadata": {
    "collapsed": false
   },
   "id": "f913aac80767897e"
  },
  {
   "cell_type": "markdown",
   "source": [
    "## Data preprocessing"
   ],
   "metadata": {
    "collapsed": false
   },
   "id": "79ffb448f467c689"
  },
  {
   "cell_type": "code",
   "execution_count": null,
   "outputs": [],
   "source": [
    "from tensorflow import keras\n",
    "from tensorflow.keras import layers\n",
    "from tensorflow.keras.utils import image_dataset_from_directory\n",
    "from tensorflow.keras.applications.imagenet_utils import preprocess_input\n",
    "import numpy as np\n",
    "from pathlib import Path\n",
    "\n",
    "new_base_dir = Path(\"subset\")\n",
    "train_dataset = image_dataset_from_directory(\n",
    "    new_base_dir / \"train\",\n",
    "    image_size=(180, 180),\n",
    "    batch_size=32)\n",
    "validation_dataset = image_dataset_from_directory(\n",
    "    new_base_dir / \"validation\",\n",
    "    image_size=(180, 180),\n",
    "    batch_size=32)\n",
    "test_dataset = image_dataset_from_directory(\n",
    "    new_base_dir / \"test\",\n",
    "    image_size=(180, 180),\n",
    "    batch_size=32)\n",
    "\n",
    "base_model = keras.models.load_model(\"base.h5\")\n",
    "\n",
    "def get_features_and_labels(dataset):\n",
    "    all_features = []\n",
    "    all_labels = []\n",
    "    for images, labels in dataset:\n",
    "        preprocessed_images = preprocess_input(\n",
    "            images, mode=\"caffe\"\n",
    "        )\n",
    "        features = base_model.predict(preprocessed_images)\n",
    "        all_features.append(features)\n",
    "        all_labels.append(labels)\n",
    "    return np.concatenate(all_features), np.concatenate(all_labels)\n",
    "\n",
    "\n",
    "train_features, train_labels = get_features_and_labels(train_dataset)\n",
    "val_features, val_labels = get_features_and_labels(validation_dataset)\n",
    "test_features, test_labels = get_features_and_labels(test_dataset)\n",
    "\n",
    "Path(\"preprocessed\").mkdir(exist_ok=True)\n",
    "np.save(\"preprocessed/train_features.npy\", train_features)\n",
    "np.save(\"preprocessed/train_labels.npy\", train_labels)\n",
    "np.save(\"preprocessed/val_features.npy\", val_features)\n",
    "np.save(\"preprocessed/val_labels.npy\", val_labels)\n",
    "np.save(\"preprocessed/test_features.npy\", test_features)\n",
    "np.save(\"preprocessed/test_labels.npy\", test_labels)"
   ],
   "metadata": {
    "collapsed": false
   },
   "id": "700db6a056286a52"
  },
  {
   "cell_type": "markdown",
   "source": [
    "## Training"
   ],
   "metadata": {
    "collapsed": false
   },
   "id": "7c03795c74fe3f0d"
  },
  {
   "cell_type": "code",
   "execution_count": null,
   "outputs": [],
   "source": [
    "train_features = np.load(\"preprocessed/train_features.npy\")\n",
    "train_labels = np.load(\"preprocessed/train_labels.npy\")\n",
    "val_features = np.load(\"preprocessed/val_features.npy\")\n",
    "val_labels = np.load(\"preprocessed/val_labels.npy\")\n",
    "\n",
    "inputs = keras.Input(shape=(5, 5, 512))\n",
    "x = layers.Flatten()(inputs)\n",
    "x = layers.Dense(256)(x)\n",
    "x = layers.Dropout(0.5)(x)\n",
    "outputs = layers.Dense(1, activation=\"sigmoid\")(x)\n",
    "model = keras.Model(inputs, outputs)\n",
    "model.compile(loss=\"binary_crossentropy\",\n",
    "              optimizer=\"rmsprop\",\n",
    "              metrics=[\"accuracy\"])\n",
    "\n",
    "model.fit(train_features, train_labels,\n",
    "          epochs=20,\n",
    "          validation_data=(val_features, val_labels))\n",
    "\n",
    "model.save(\"model.h5\")"
   ],
   "metadata": {
    "collapsed": false
   },
   "id": "2b1d3ad180aa55c8"
  },
  {
   "cell_type": "markdown",
   "source": [
    "## Evaluation"
   ],
   "metadata": {
    "collapsed": false
   },
   "id": "bcddc446edfb74f9"
  },
  {
   "cell_type": "code",
   "execution_count": null,
   "outputs": [],
   "source": [
    "test_features = np.load(\"preprocessed/test_features.npy\")\n",
    "test_labels = np.load(\"preprocessed/test_labels.npy\")\n",
    "\n",
    "test_model = keras.models.load_model(\"model.h5\")\n",
    "test_loss, test_acc = test_model.evaluate(test_features, test_labels)\n",
    "print(f\"Test accuracy: {test_acc:.3f}\")"
   ],
   "metadata": {
    "collapsed": false
   },
   "id": "a6173bd5a8f3f32b"
  }
 ],
 "metadata": {
  "kernelspec": {
   "display_name": "Python 3",
   "language": "python",
   "name": "python3"
  },
  "language_info": {
   "codemirror_mode": {
    "name": "ipython",
    "version": 2
   },
   "file_extension": ".py",
   "mimetype": "text/x-python",
   "name": "python",
   "nbconvert_exporter": "python",
   "pygments_lexer": "ipython2",
   "version": "2.7.6"
  }
 },
 "nbformat": 4,
 "nbformat_minor": 5
}
